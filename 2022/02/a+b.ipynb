{
 "cells": [
  {
   "cell_type": "code",
   "execution_count": 2,
   "metadata": {},
   "outputs": [],
   "source": [
    "secrets= {\n",
    "    \"A\": [\"Rock\", 1],\n",
    "    \"B\": [\"Paper\", 2],\n",
    "    \"C\": [\"Scissors\", 3],\n",
    "    \"X\": [\"Rock\", 1],\n",
    "    \"Y\": [\"Paper\", 2],\n",
    "    \"Z\": [\"Scissors\", 3],\n",
    "}\n",
    "\n",
    "def rps_eval(input_enemy, input_self):\n",
    "    if input_self == \"Rock\":\n",
    "        if input_enemy == \"Rock\":\n",
    "            return 3\n",
    "        elif input_enemy == \"Paper\":\n",
    "            return 0\n",
    "        else:\n",
    "            return 6\n",
    "    elif input_self == \"Paper\":\n",
    "        if input_enemy == \"Rock\":\n",
    "            return 6\n",
    "        elif input_enemy == \"Paper\":\n",
    "            return 3\n",
    "        else:\n",
    "            return 0\n",
    "    else: #Scissors\n",
    "        if input_enemy == \"Rock\":\n",
    "            return 0\n",
    "        elif input_enemy == \"Paper\":\n",
    "            return 6\n",
    "        else:\n",
    "            return 3\n",
    "\n",
    "\n",
    "def calculate_score(input_enemy, input_self):\n",
    "    rps_score = rps_eval(secrets[input_enemy][0], secrets[input_self][0])\n",
    "    choice_score = secrets[input_self][1]\n",
    "    return rps_score + choice_score"
   ]
  },
  {
   "cell_type": "code",
   "execution_count": 3,
   "metadata": {},
   "outputs": [
    {
     "data": {
      "text/plain": [
       "13526"
      ]
     },
     "execution_count": 3,
     "metadata": {},
     "output_type": "execute_result"
    }
   ],
   "source": [
    "with open(\"input.txt\") as f:\n",
    "    lines = f.readlines()\n",
    "\n",
    "    total_score = 0\n",
    "\n",
    "    for line in lines:\n",
    "        input = line.split(\" \")\n",
    "        input[1] = input[1].split(\"\\n\")[0]\n",
    "        total_score = total_score + calculate_score(input[0], input[1])\n",
    "\n",
    "total_score\n",
    "\n",
    "# (a) The calculated result of \"13526\" was correct"
   ]
  },
  {
   "cell_type": "code",
   "execution_count": 4,
   "metadata": {},
   "outputs": [
    {
     "data": {
      "text/plain": [
       "14204"
      ]
     },
     "execution_count": 4,
     "metadata": {},
     "output_type": "execute_result"
    }
   ],
   "source": [
    "def rps_eval2(input_enemy, strategy):\n",
    "    if strategy == \"X\": #lose\n",
    "        if input_enemy == \"Rock\": #scissors\n",
    "            return 0+3\n",
    "        elif input_enemy == \"Paper\": #rock\n",
    "            return 0+1\n",
    "        else: #paper\n",
    "            return 0+2\n",
    "    elif strategy == \"Y\": #draw\n",
    "        if input_enemy == \"Rock\": #rock\n",
    "            return 3+1\n",
    "        elif input_enemy == \"Paper\": #paper\n",
    "            return 3+2\n",
    "        else: #scissors\n",
    "            return 3+3\n",
    "    else: #win\n",
    "        if input_enemy == \"Rock\": #paper\n",
    "            return 6+2\n",
    "        elif input_enemy == \"Paper\": #scissors\n",
    "            return 6+3\n",
    "        else: #rock\n",
    "            return 6+1\n",
    "\n",
    "total_score_b = 0\n",
    "\n",
    "for line in lines:\n",
    "    input = line.split(\" \")\n",
    "    input[1] = input[1].split(\"\\n\")[0]\n",
    "    total_score_b = total_score_b + rps_eval2(secrets[input[0]][0], input[1])\n",
    "\n",
    "total_score_b\n",
    "\n",
    "# first answer (14322) was false\n",
    "# second answer (14204) was correct\n"
   ]
  }
 ],
 "metadata": {
  "kernelspec": {
   "display_name": "Python 3.10.7 64-bit",
   "language": "python",
   "name": "python3"
  },
  "language_info": {
   "codemirror_mode": {
    "name": "ipython",
    "version": 3
   },
   "file_extension": ".py",
   "mimetype": "text/x-python",
   "name": "python",
   "nbconvert_exporter": "python",
   "pygments_lexer": "ipython3",
   "version": "3.10.7"
  },
  "orig_nbformat": 4,
  "vscode": {
   "interpreter": {
    "hash": "cb96b0c1f4eb42a46f5b03d6b02729b10f87c42d1ad2fdb65315b951a8f5b24e"
   }
  }
 },
 "nbformat": 4,
 "nbformat_minor": 2
}

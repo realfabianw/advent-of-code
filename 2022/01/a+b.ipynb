{
 "cells": [
  {
   "cell_type": "code",
   "execution_count": 9,
   "metadata": {},
   "outputs": [
    {
     "data": {
      "text/plain": [
       "71924"
      ]
     },
     "execution_count": 9,
     "metadata": {},
     "output_type": "execute_result"
    }
   ],
   "source": [
    "with open(\"input.txt\") as f:\n",
    "    lines = f.readlines()\n",
    "\n",
    "    elfs = []\n",
    "\n",
    "    elf = []\n",
    "    for line in lines:\n",
    "        if line == \"\\n\":\n",
    "            # print(\"elf: \", elf)\n",
    "            elfs.append(elf)\n",
    "            elf = []\n",
    "        else:\n",
    "            elf.append(int(line.split(\"\\n\")[0]))\n",
    "\n",
    "elf_with_most_cals = elfs[0]\n",
    "\n",
    "for elf in elfs:\n",
    "    if sum(elf) > sum(elf_with_most_cals):\n",
    "        elf_with_most_cals = elf\n",
    "\n",
    "sum(elf_with_most_cals) #answer for (a) -> 71924"
   ]
  },
  {
   "cell_type": "code",
   "execution_count": 25,
   "metadata": {},
   "outputs": [
    {
     "data": {
      "text/plain": [
       "210406"
      ]
     },
     "execution_count": 25,
     "metadata": {},
     "output_type": "execute_result"
    }
   ],
   "source": [
    "elfs.sort(key=lambda elf: sum(elf))\n",
    "\n",
    "total_cals = 0\n",
    "\n",
    "for x in range(1, 4):\n",
    "    total_cals = total_cals + sum(elfs[-x])\n",
    "\n",
    "total_cals #answer for (b) -> 210406"
   ]
  }
 ],
 "metadata": {
  "kernelspec": {
   "display_name": "Python 3.10.7 64-bit",
   "language": "python",
   "name": "python3"
  },
  "language_info": {
   "codemirror_mode": {
    "name": "ipython",
    "version": 3
   },
   "file_extension": ".py",
   "mimetype": "text/x-python",
   "name": "python",
   "nbconvert_exporter": "python",
   "pygments_lexer": "ipython3",
   "version": "3.10.7"
  },
  "orig_nbformat": 4,
  "vscode": {
   "interpreter": {
    "hash": "cb96b0c1f4eb42a46f5b03d6b02729b10f87c42d1ad2fdb65315b951a8f5b24e"
   }
  }
 },
 "nbformat": 4,
 "nbformat_minor": 2
}

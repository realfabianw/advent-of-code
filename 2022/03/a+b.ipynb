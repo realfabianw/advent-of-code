{
 "cells": [
  {
   "cell_type": "code",
   "execution_count": 118,
   "metadata": {},
   "outputs": [],
   "source": [
    "with open(\"input.txt\") as f:\n",
    "    lines = f.readlines()\n",
    "\n",
    "lines_cleaned = []\n",
    "for line in lines:\n",
    "    lines_cleaned.append(line.replace(\"\\n\",\"\"))\n",
    "\n",
    "lines = lines_cleaned"
   ]
  },
  {
   "cell_type": "code",
   "execution_count": 119,
   "metadata": {},
   "outputs": [],
   "source": [
    "def split_middle(string):\n",
    "    length = len(string)\n",
    "    return [string[i:i+int(length/2)] for i in range(0, len(string), int(length/2))]\n",
    "\n",
    "def get_matching_items(rucksack):\n",
    "    matching = set()\n",
    "    for char in rucksack[0]:\n",
    "        matching.add(char)\n",
    "        for comp in rucksack:\n",
    "            if  char not in comp:\n",
    "                matching.discard(char)\n",
    "    return matching\n",
    "\n",
    "def get_priority(matching_items):\n",
    "    cumsum = 0\n",
    "    for item in matching_items:\n",
    "        if item.islower():\n",
    "            cumsum += ord(item)-96\n",
    "        else:\n",
    "            cumsum += ord(item)-38\n",
    "    return cumsum"
   ]
  },
  {
   "cell_type": "code",
   "execution_count": 120,
   "metadata": {},
   "outputs": [
    {
     "data": {
      "text/plain": [
       "8493"
      ]
     },
     "execution_count": 120,
     "metadata": {},
     "output_type": "execute_result"
    }
   ],
   "source": [
    "rucksacks = []\n",
    "for line in lines:\n",
    "    rucksacks.append(split_middle(line))\n",
    "\n",
    "\n",
    "matching = []\n",
    "for rucksack in rucksacks:\n",
    "    matching.append(get_matching_items(rucksack))\n",
    "\n",
    "\n",
    "sum_priority = 0\n",
    "for matches in matching:\n",
    "    sum_priority += get_priority(matches)\n",
    "\n",
    "sum_priority # 8493 was correct"
   ]
  },
  {
   "cell_type": "code",
   "execution_count": 124,
   "metadata": {},
   "outputs": [
    {
     "data": {
      "text/plain": [
       "2552"
      ]
     },
     "execution_count": 124,
     "metadata": {},
     "output_type": "execute_result"
    }
   ],
   "source": [
    "groups = []\n",
    "\n",
    "for index in range(0, len(lines), 3):\n",
    "    groups.append(lines[index: index+3])\n",
    "\n",
    "matching_2 = []\n",
    "for group in groups:\n",
    "    matching_2.append(get_matching_items(group))\n",
    "\n",
    "sum_priority_2 = 0\n",
    "for matches in matching_2:\n",
    "    sum_priority_2 += get_priority(matches)\n",
    "\n",
    "sum_priority_2\n",
    "\n",
    "# 2506 was false!\n",
    "# 2552 was correct. i was missing one group (index error)"
   ]
  }
 ],
 "metadata": {
  "kernelspec": {
   "display_name": "Python 3.10.7 64-bit",
   "language": "python",
   "name": "python3"
  },
  "language_info": {
   "codemirror_mode": {
    "name": "ipython",
    "version": 3
   },
   "file_extension": ".py",
   "mimetype": "text/x-python",
   "name": "python",
   "nbconvert_exporter": "python",
   "pygments_lexer": "ipython3",
   "version": "3.10.7"
  },
  "orig_nbformat": 4,
  "vscode": {
   "interpreter": {
    "hash": "cb96b0c1f4eb42a46f5b03d6b02729b10f87c42d1ad2fdb65315b951a8f5b24e"
   }
  }
 },
 "nbformat": 4,
 "nbformat_minor": 2
}
